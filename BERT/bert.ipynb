{
 "cells": [
  {
   "cell_type": "markdown",
   "metadata": {},
   "source": [
    "References\n",
    "https://skimai.com/fine-tuning-bert-for-sentiment-analysis/\n",
    "https://github.com/huggingface/transformers\n"
   ]
  },
  {
   "cell_type": "code",
   "execution_count": 1,
   "metadata": {},
   "outputs": [],
   "source": [
    "import torch\n",
    "import torch.nn as nn\n",
    "from torch import optim\n",
    "from torch.utils.data import DataLoader\n",
    "from copy import deepcopy\n",
    "import json\n",
    "import datetime"
   ]
  },
  {
   "cell_type": "code",
   "execution_count": 2,
   "metadata": {},
   "outputs": [],
   "source": [
    "cache_dir = '/output/cache'\n",
    "compress_data_filename = '/data/52WangRuicheng/aclImdb/aclImdb_v1.tar.gz'\n",
    "embedding_filename = '/data/52WangRuicheng/glove6B/glove.6B.100d.txt'\n",
    "embed_size = 100\n",
    "num_class = 2\n",
    "min_freq = 3        # 用到的词最少出现的次数\n",
    "split_rate = 0.2"
   ]
  },
  {
   "cell_type": "code",
   "execution_count": 3,
   "metadata": {},
   "outputs": [
    {
     "name": "stdout",
     "output_type": "stream",
     "text": [
      "Cache found.\n",
      "Cache found.\n"
     ]
    }
   ],
   "source": [
    "import os\n",
    "import tarfile\n",
    "from tqdm import tqdm\n",
    "import pickle\n",
    "import random\n",
    "\n",
    "def read_imdb(type_:str) -> list:\n",
    "    '''\n",
    "    Read the imdb dataset, and return list of data like [[TEXT:str, LABEL:int],...]\\n\n",
    "    The unzipped file will be cached.\n",
    "    '''\n",
    "    if os.path.exists(os.path.join(cache_dir, f'{type_}.pkl')):\n",
    "        print('Cache found.')\n",
    "        with open(os.path.join(cache_dir, f'{type_}.pkl'), 'rb') as f:\n",
    "            data = pickle.load(f)\n",
    "        return data\n",
    "\n",
    "    if not os.path.exists(os.path.join(cache_dir, \"aclImdb\")):\n",
    "        print(f\">>> Decompressing {compress_data_filename}...\")\n",
    "        with tarfile.open(compress_data_filename, 'r') as f:\n",
    "            f.extractall(cache_dir)\n",
    "        print(\">>> Done. \")\n",
    "\n",
    "    data = []\n",
    "    print(\">>> Reading cached decompressed files...\")\n",
    "    for label in ['pos', 'neg']:\n",
    "        folder_name = os.path.join(cache_dir, 'aclImdb', type_, label)\n",
    "        for file in tqdm(os.listdir(folder_name)):\n",
    "            with open(os.path.join(folder_name, file), 'rb') as f:\n",
    "                review = f.read().decode('utf-8').replace('\\n', '').lower()\n",
    "                data.append((review, 1 if label == 'pos' else 0))\n",
    "    print(\">>> Done\")\n",
    "    random.shuffle(data)  \n",
    "    with open(os.path.join(cache_dir, f'{type_}.pkl'), 'wb') as f:\n",
    "        pickle.dump(data, f, protocol=1)\n",
    "    return data\n",
    "\n",
    "train_raw, test_raw = read_imdb('train'), read_imdb('test')"
   ]
  },
  {
   "cell_type": "code",
   "execution_count": 4,
   "metadata": {},
   "outputs": [],
   "source": [
    "from transformers import BertTokenizer\n",
    "import re\n",
    "\n",
    "# Load the BERT tokenizer\n",
    "tokenizer = BertTokenizer.from_pretrained('bert-base-uncased', do_lower_case=True)\n",
    "def text_preprocessing(text):\n",
    "    \"\"\"\n",
    "    - Remove entity mentions (eg. '@united')\n",
    "    - Correct errors (eg. '&amp;' to '&')\n",
    "    \"\"\"\n",
    "    text = re.sub(r'(@.*?)[\\s]', ' ', text)\n",
    "    text = re.sub(r'&amp;', '&', text)\n",
    "    text = re.sub(r'\\s+', ' ', text).strip()\n",
    "\n",
    "    return text\n",
    "\n",
    "# Create a function to tokenize a set of texts\n",
    "def preprocessing(data):\n",
    "    \"\"\"Perform required preprocessing steps for pretrained BERT.\n",
    "    @param    data (np.array): Array of texts to be processed.\n",
    "    @return   input_ids (torch.Tensor): Tensor of token ids to be fed to a model.\n",
    "    @return   attention_masks (torch.Tensor): Tensor of indices specifying which\n",
    "                  tokens should be attended to by the model.\n",
    "    \"\"\"\n",
    "    # Create empty lists to store outputs\n",
    "    input_ids = []\n",
    "    attention_masks = []\n",
    "    labels = []\n",
    "    \n",
    "    # For every sentence...\n",
    "    for sent, label in tqdm(data):\n",
    "        encoded_sent = tokenizer.encode_plus(\n",
    "            text=text_preprocessing(sent),  # Preprocess sentence\n",
    "            add_special_tokens=True,        # Add `[CLS]` and `[SEP]`\n",
    "            max_length=256,                # Max length to truncate/pad\n",
    "            padding='max_length',          # Pad sentence to max length\n",
    "            truncation=True,\n",
    "            return_attention_mask=True      # Return attention mask\n",
    "            )\n",
    "        # Add the outputs to the lists\n",
    "        input_ids.append(encoded_sent.get('input_ids'))\n",
    "        attention_masks.append(encoded_sent.get('attention_mask'))\n",
    "        labels.append(label)\n",
    "\n",
    "    return input_ids, attention_masks, labels"
   ]
  },
  {
   "cell_type": "code",
   "execution_count": 5,
   "metadata": {},
   "outputs": [
    {
     "name": "stdout",
     "output_type": "stream",
     "text": [
      "Cache found.\n"
     ]
    }
   ],
   "source": [
    "if os.path.exists(os.path.join(cache_dir, 'train_processed.pkl')):\n",
    "    print('Cache found.')\n",
    "    with open(os.path.join(cache_dir, 'train_processed.pkl'), 'rb') as f:\n",
    "        input_ids, attention_masks, labels = pickle.load(f)\n",
    "else:\n",
    "    input_ids, attention_masks, labels = preprocessing(train_raw)\n",
    "    input_ids, attention_masks, labels = torch.tensor(input_ids), torch.tensor(attention_masks), torch.tensor(labels)\n",
    "    with open(os.path.join(cache_dir, 'train_processed.pkl'), 'wb') as f:\n",
    "        pickle.dump((input_ids, attention_masks, labels), f, protocol=1)"
   ]
  },
  {
   "cell_type": "code",
   "execution_count": 6,
   "metadata": {},
   "outputs": [
    {
     "name": "stdout",
     "output_type": "stream",
     "text": [
      "Cache found.\n"
     ]
    }
   ],
   "source": [
    "if os.path.exists(os.path.join(cache_dir, 'test_processed.pkl')):\n",
    "    print('Cache found.')\n",
    "    with open(os.path.join(cache_dir, 'test_processed.pkl'), 'rb') as f:\n",
    "        test_input_ids, test_attention_masks, test_labels = pickle.load(f)\n",
    "else:\n",
    "    test_input_ids, test_attention_masks, test_labels = preprocessing(test_raw)\n",
    "    test_input_ids, test_attention_masks, test_labels = torch.tensor(test_input_ids), torch.tensor(test_attention_masks), torch.tensor(test_labels)\n",
    "    with open(os.path.join(cache_dir, 'test_processed.pkl'), 'wb') as f:\n",
    "        pickle.dump((test_input_ids, test_attention_masks, test_labels), f, protocol=1)"
   ]
  },
  {
   "cell_type": "code",
   "execution_count": 24,
   "metadata": {},
   "outputs": [],
   "source": [
    "import torch\n",
    "import torch.nn as nn\n",
    "import torch.nn.functional as F\n",
    "from transformers import BertModel\n",
    "\n",
    "# Create the BertClassfier class\n",
    "class BertClassifier(nn.Module):\n",
    "    \"\"\"Bert Model for Classification Tasks.\n",
    "    \"\"\"\n",
    "    def __init__(self, freeze_bert=False):\n",
    "        super(BertClassifier, self).__init__()\n",
    "        # Specify hidden size of BERT, hidden size of our classifier, and number of labels\n",
    "        D_in, H, D_out = 768, 64, 1\n",
    "\n",
    "        self.bert = BertModel.from_pretrained('bert-base-uncased')\n",
    "\n",
    "        # Instantiate an one-layer feed-forward classifier\n",
    "        self.classifier = nn.Sequential(\n",
    "            nn.Linear(D_in, H),\n",
    "            nn.ReLU(),\n",
    "            nn.Linear(H, D_out)\n",
    "        )\n",
    "\n",
    "        # Freeze the BERT model\n",
    "        self.freeze_bert = freeze_bert\n",
    "        \n",
    "    def forward(self, input_ids, attention_mask):\n",
    "        # Feed input to BERT\n",
    "        if self.freeze_bert:\n",
    "            with torch.no_grad():\n",
    "                outputs = self.bert(input_ids=input_ids, attention_mask=attention_mask)\n",
    "        else:\n",
    "            outputs = self.bert(input_ids=input_ids, attention_mask=attention_mask)\n",
    "        # Extract the last hidden state of the token `[CLS]` for classification task\n",
    "        last_hidden_state_cls = outputs[0][:, 0, :]\n",
    "\n",
    "        # Feed input to classifier to compute logits\n",
    "        logits = torch.sigmoid(self.classifier(last_hidden_state_cls)).squeeze()\n",
    "\n",
    "        return logits"
   ]
  },
  {
   "cell_type": "code",
   "execution_count": 19,
   "metadata": {},
   "outputs": [],
   "source": [
    "def train_epoch(model:nn.Module, optimizer:torch.optim.Optimizer, dataloader:DataLoader, loss_fn) -> None:\n",
    "    model.train()\n",
    "    epoch_loss = 0.\n",
    "    num_batch = len(dataloader)\n",
    "    for i_batcch, (seq, mask, label) in enumerate(dataloader):\n",
    "        seq, mask, label = seq.cuda(), mask.cuda(), label.cuda().float()\n",
    "        y = model(seq, mask)\n",
    "        loss = loss_fn(y, label)\n",
    "\n",
    "        optimizer.zero_grad()\n",
    "        loss.backward()\n",
    "        optimizer.step()\n",
    "\n",
    "        epoch_loss += loss.item()\n",
    "        print(f'[Train] Loss {epoch_loss / (i_batcch + 1):>10.5f}, [{i_batcch + 1:5d} / {num_batch:5d}]', end='\\r')\n",
    "    epoch_loss = epoch_loss / num_batch\n",
    "    print()\n",
    "    return {'train_loss':epoch_loss}\n",
    "\n",
    "\n",
    "def val_epoch(model:nn.Module, dataloader:DataLoader, loss_fn):\n",
    "    model.eval()\n",
    "    epoch_loss = 0.\n",
    "    acc = 0\n",
    "    num_batch = len(dataloader)\n",
    "    with torch.no_grad():\n",
    "        for i_batcch, (seq, mask, label) in enumerate(dataloader):\n",
    "            seq, mask, label = seq.cuda(), mask.cuda(), label.cuda().float()\n",
    "            y = model(seq, mask)\n",
    "            loss = loss_fn(y, label)\n",
    "\n",
    "            epoch_loss += loss.item()\n",
    "            acc += (torch.round(y) == label).float().mean().item()\n",
    "            print(f'[Val  ] [{i_batcch + 1} / {num_batch}]', end='\\r')\n",
    "    acc = acc / num_batch\n",
    "    epoch_loss = epoch_loss / num_batch\n",
    "    print(f'[Val  ] Loss {epoch_loss:>10.5f}, Acc {acc:>10.5f}.')\n",
    "    return {'val_acc':acc, 'val_loss':epoch_loss}\n",
    "\n",
    "def test(model:nn.Module, dataloader:DataLoader):\n",
    "    model.eval()\n",
    "\n",
    "    acc = 0\n",
    "    num_batch = len(dataloader)\n",
    "    with torch.no_grad():\n",
    "        for i_batcch, (seq, mask, label) in enumerate(dataloader):\n",
    "            seq, mask, label = seq.cuda(), mask.cuda(), label.cuda().float()\n",
    "            y = model(seq, mask)\n",
    "\n",
    "            acc += (torch.round(y) == label).float().mean().item()\n",
    "            print(f'[Test  ] [{i_batcch + 1} / {num_batch}]', end='\\r')\n",
    "    acc = acc / num_batch\n",
    "    print(f'[Test ] Acc {acc:>10.5f}.')\n",
    "    return {'test_acc':acc}"
   ]
  },
  {
   "cell_type": "code",
   "execution_count": 9,
   "metadata": {},
   "outputs": [],
   "source": [
    "sp = int(input_ids.shape[0] * 0.8)\n",
    "train_input_ids, train_attention_masks, train_labels = input_ids[:sp], attention_masks[:sp], labels[:sp]\n",
    "val_input_ids, val_attention_masks, val_labels = input_ids[sp:], attention_masks[sp:], labels[sp:]\n",
    "\n",
    "train_dataloader = DataLoader(list(zip(train_input_ids.unbind(0), train_attention_masks.unbind(0), train_labels.unbind(0))), batch_size=32, shuffle=True)\n",
    "val_dataloader = DataLoader(list(zip(val_input_ids.unbind(0), val_attention_masks.unbind(0), val_labels.unbind(0))), batch_size=32, shuffle=True)\n",
    "test_dataloader = DataLoader(list(zip(test_input_ids.unbind(0), test_attention_masks.unbind(0), test_labels.unbind(0))), batch_size=32, shuffle=True)"
   ]
  },
  {
   "cell_type": "code",
   "execution_count": 30,
   "metadata": {},
   "outputs": [
    {
     "name": "stderr",
     "output_type": "stream",
     "text": [
      "Some weights of the model checkpoint at bert-base-uncased were not used when initializing BertModel: ['cls.predictions.bias', 'cls.seq_relationship.weight', 'cls.seq_relationship.bias', 'cls.predictions.transform.LayerNorm.weight', 'cls.predictions.transform.LayerNorm.bias', 'cls.predictions.transform.dense.bias', 'cls.predictions.decoder.weight', 'cls.predictions.transform.dense.weight']\n",
      "- This IS expected if you are initializing BertModel from the checkpoint of a model trained on another task or with another architecture (e.g. initializing a BertForSequenceClassification model from a BertForPreTraining model).\n",
      "- This IS NOT expected if you are initializing BertModel from the checkpoint of a model that you expect to be exactly identical (initializing a BertForSequenceClassification model from a BertForSequenceClassification model).\n"
     ]
    }
   ],
   "source": [
    "model = BertClassifier(freeze_bert=False)\n",
    "model = nn.DataParallel(model).cuda()"
   ]
  },
  {
   "cell_type": "code",
   "execution_count": null,
   "metadata": {},
   "outputs": [
    {
     "name": "stdout",
     "output_type": "stream",
     "text": [
      "Epoch 0\n",
      "[Train] Loss    0.07761, [  625 /   625]\n",
      "[Val  ] Loss    0.29928, Acc    0.90107.\n",
      "Epoch 1\n",
      "[Train] Loss    0.04217, [  248 /   625]\r"
     ]
    }
   ],
   "source": [
    "# Split train & validation dataset\n",
    "import numpy as np\n",
    "\n",
    "optimizer = torch.optim.Adam(model.parameters(), lr=1e-5)\n",
    "bce_loss_fn = nn.BCELoss()\n",
    "\n",
    "num_epochs = 15\n",
    "\n",
    "best_val_loss = np.inf\n",
    "best_step = 0\n",
    "best_model = None\n",
    "\n",
    "logs = {'test_acc':0., 'train_loss':[], 'val_acc':[], 'val_loss':[]}\n",
    "for i in range(num_epochs):\n",
    "    print(f'Epoch {i}')\n",
    "    \n",
    "    train_log = train_epoch(model, optimizer, train_dataloader, bce_loss_fn)\n",
    "    val_log = val_epoch(model, val_dataloader, bce_loss_fn)\n",
    "\n",
    "    for value, key in enumerate(train_log):\n",
    "        logs[key].append(value)\n",
    "    for value, key in enumerate(val_log):\n",
    "        logs[key].append(value)\n",
    "    \n",
    "    val_loss = val_log['val_loss']\n",
    "    if val_loss < best_val_loss:\n",
    "        best_val_loss = val_loss\n",
    "        best_step = i\n",
    "        best_model = deepcopy(model)\n",
    "    elif i - best_step > 3:\n",
    "        break\n",
    "\n",
    "test_log = test(model, test_dataloader)\n",
    "logs['test_acc'] = test_log['test_acc']\n",
    "\n",
    "\n",
    "log_save_dir = '/output'\n",
    "with open(os.path.join(log_save_dir, f'logs_{datetime.datetime.now()}.json'), 'w') as f:\n",
    "    json.dump(logs, f)\n",
    "torch.save(best_model, os.path.join(log_save_dir, f'model_{datetime.datetime.now()}.pth'))"
   ]
  },
  {
   "cell_type": "code",
   "execution_count": 33,
   "metadata": {},
   "outputs": [
    {
     "name": "stdout",
     "output_type": "stream",
     "text": [
      "[Test ] Acc    0.91392.\n"
     ]
    }
   ],
   "source": [
    "test_log = test(model, test_dataloader)"
   ]
  },
  {
   "cell_type": "code",
   "execution_count": null,
   "metadata": {},
   "outputs": [],
   "source": []
  }
 ],
 "metadata": {
  "kernelspec": {
   "display_name": "Python 3",
   "language": "python",
   "name": "python3"
  },
  "language_info": {
   "codemirror_mode": {
    "name": "ipython",
    "version": 3
   },
   "file_extension": ".py",
   "mimetype": "text/x-python",
   "name": "python",
   "nbconvert_exporter": "python",
   "pygments_lexer": "ipython3",
   "version": "3.6.10"
  }
 },
 "nbformat": 4,
 "nbformat_minor": 4
}
